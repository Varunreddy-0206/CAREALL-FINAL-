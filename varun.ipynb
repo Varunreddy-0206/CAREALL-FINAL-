{
 "cells": [
  {
   "cell_type": "code",
   "execution_count": 1,
   "metadata": {
    "colab": {
     "base_uri": "https://localhost:8080/",
     "height": 646
    },
    "colab_type": "code",
    "executionInfo": {
     "elapsed": 50302,
     "status": "error",
     "timestamp": 1587310757035,
     "user": {
      "displayName": "Pavan Kumar Akula",
      "photoUrl": "https://lh3.googleusercontent.com/a-/AOh14Gh_bU9oZoCUzFptpm6EhhkNnBSFVz-Fgt3mTDW4WQ=s64",
      "userId": "08538019223086177450"
     },
     "user_tz": -120
    },
    "id": "EDUQTaOcFd2E",
    "outputId": "64cc70ea-7735-492c-c65b-0a0505cd906c"
   },
   "outputs": [
    {
     "name": "stdout",
     "output_type": "stream",
     "text": [
      "young:deepika\n",
      "deepika would you like to take care of male named ramreddy aged74\n",
      "enter your responseYES\n",
      "young:deepika\n",
      "deepika would you like to take care of male named rajaram aged62\n",
      "enter your responseYES\n",
      "young:deepika\n",
      "deepika would you like to take care of male named RAMU aged74\n",
      "enter your responseYES\n",
      "young:deepika\n",
      "deepika would you like to take care of female named sujatha aged60\n",
      "enter your responseNO\n",
      "young:deepika\n",
      "deepika would you like to take care of Female named swarupa aged52\n",
      "enter your responseNO\n",
      "young:deepika\n",
      "deepika would you like to take care of male named mahinder aged55\n",
      "enter your responseNO\n",
      "will you take care by Female nameddeepika aged22\n",
      "enter responseYES\n",
      "deepika is taking care of ramreddy aged 74\n",
      "will you take care by Female nameddeepika aged22\n",
      "enter responseYES\n",
      "deepika is taking care of rajaram aged 62\n",
      "will you take care by Female nameddeepika aged22\n",
      "enter responseYES\n",
      "deepika is taking care of RAMU aged 74\n",
      "young:varun\n",
      "varun would you like to take care of male named ramreddy aged74\n",
      "enter your responseYES\n",
      "young:varun\n",
      "varun would you like to take care of male named rajaram aged62\n",
      "enter your responseYES\n",
      "young:varun\n",
      "varun would you like to take care of male named RAMU aged74\n",
      "enter your responseYES\n",
      "young:varun\n",
      "varun would you like to take care of female named sujatha aged60\n",
      "enter your responseYES\n",
      "young:varun\n",
      "varun would you like to take care of Female named swarupa aged52\n",
      "enter your responseYES\n",
      "young:varun\n",
      "varun would you like to take care of male named mahinder aged55\n",
      "enter your responseYES\n",
      "will you take care by male namedvarun aged22\n",
      "enter responseYES\n",
      "varun is taking care of ramreddy aged 74\n",
      "will you take care by male namedvarun aged22\n",
      "enter responseYES\n",
      "varun is taking care of rajaram aged 62\n",
      "will you take care by male namedvarun aged22\n",
      "enter responseYES\n",
      "varun is taking care of RAMU aged 74\n",
      "will you take care by male namedvarun aged22\n",
      "enter responseYES\n",
      "varun is taking care of sujatha aged 60\n",
      "will you take care by male namedvarun aged22\n",
      "enter responseYES\n",
      "will you take care by male namedvarun aged22\n",
      "enter responseYES\n"
     ]
    }
   ],
   "source": [
    "class CareALL:\n",
    "    def __init__(self,name,age,gender):\n",
    "        self.name = name\n",
    "        self.age = age\n",
    "        self.gender = gender\n",
    "        self.status = True\n",
    "    def get_status(self):\n",
    "        return self.status\n",
    "    def set_status(self,new_status):\n",
    "        self.status =status\n",
    "    def set_rating(self,new_rating):\n",
    "        self.rating = new_rating\n",
    "    def get_rating(self):\n",
    "        return self.rating\n",
    "    def set_review(self,new_review):\n",
    "        self.review = new_review\n",
    "    def get_review(self):\n",
    "        return self.review\n",
    "\n",
    "class Young(CareALL):\n",
    "    young_list = []\n",
    "    @classmethod\n",
    "    def add_young_per(cls,obj):\n",
    "        cls.young_list.append(obj)\n",
    "    def __init__(self,name,age,gender):\n",
    "        super().__init__(name,age,gender)\n",
    "        self.care_list_confirmed = []\n",
    "        self.care_list_chosen = []\n",
    "        self.caring_num = 0\n",
    "        Young.add_young_per(self)\n",
    "    def add_old(self,name):\n",
    "        if len(self.care_list_confirmed) < 4:\n",
    "            self.care_list_confirmed.append(name)\n",
    "            return True\n",
    "        else:\n",
    "            return False\n",
    "    def get_care_list(self):\n",
    "        for old in self.care_list_confirmed:\n",
    "            print(old.name)\n",
    "    def income(self):\n",
    "        total = 0\n",
    "        for a in self.care_list_confirmed:\n",
    "            total+=a.get_funds()\n",
    "            return total\n",
    "    def number(self):\n",
    "        return len(self.care_list_chosen)\n",
    "    def select(self,care_list_confirmed):\n",
    "        for people in care_list_confirmed:\n",
    "            if people.status:\n",
    "                print(\"young:{}\".format(self.name))\n",
    "                print(\"{} would you like to take care of {} named {} aged{}\".format(self.name,people.gender,people.name,people.age))\n",
    "                i=input(\"enter your response\")\n",
    "                if i == 'YES':\n",
    "                    self.care_list_chosen.append(people)\n",
    "                elif i=='NO':\n",
    "                    pass\n",
    "                else:\n",
    "                    print(\"enter either  yes or no\")\n",
    "                    return self.select(care_list_confirmed)\n",
    "\n",
    "class Old(CareALL):\n",
    "    old_list =[]\n",
    "    @classmethod\n",
    "    def add_old_per(cls,obj):\n",
    "        cls.old_list.append(obj)\n",
    "    def __init__(self,name,age,gender):\n",
    "        super().__init__(name,age,gender)\n",
    "        Old.add_old_per(self)\n",
    "    def set_funds(self,price):\n",
    "        self.price = price\n",
    "    def get_funds(self):\n",
    "        return self.price\n",
    "    def accept(self,young):\n",
    "        if self.status:\n",
    "            print(\"will you take care by {} named{} aged{}\".format(young.gender,young.name,young.age))\n",
    "            u=input(\"enter response\")\n",
    "            if u=='YES':\n",
    "                self.set_status =False\n",
    "                return True\n",
    "            elif u=='NO':\n",
    "                pass\n",
    "            else:\n",
    "                print('enter yes or no')\n",
    "                return self.accept(young_list)\n",
    "    def getting_cared_by(self):\n",
    "        return the_log.get(self.name,-1)\n",
    "       \n",
    "\n",
    "A = Old('ramreddy',74,'male')\n",
    "B = Old('rajaram',62,'male')\n",
    "C = Old('RAMU',74,'male')\n",
    "D = Old('sujatha',60,'female')\n",
    "E = Old('swarupa',52,'Female')\n",
    "F = Old('mahinder',55,'male')\n",
    "Y = Young('deepika',22,'Female')\n",
    "Z = Young('varun',22,'male')\n",
    "the_log ={}\n",
    "for young in Young.young_list:\n",
    "    if young.status:\n",
    "        young.select(Old.old_list)\n",
    "        for old in young.care_list_chosen:\n",
    "            if(old.accept(young)):\n",
    "                final = young.add_old(old)\n",
    "                if final:\n",
    "                    print(\"{} is taking care of {} aged {}\".format(young.name,old.name,old.age))\n",
    "                    the_log.setdefault(old.name,young.name)\n",
    "            else:\n",
    "                print(\"{} cant take more oldpeople, {} has reached the limit \".format(young.name,young.name))\n",
    "                young.set_status = False\n",
    "                old.set_status = True\n"
   ]
  },
  {
   "cell_type": "code",
   "execution_count": 2,
   "metadata": {
    "colab": {},
    "colab_type": "code",
    "id": "tMfkFnRwFd2M"
   },
   "outputs": [
    {
     "name": "stdout",
     "output_type": "stream",
     "text": [
      "{'ramreddy': 'deepika', 'rajaram': 'deepika', 'RAMU': 'deepika', 'sujatha': 'varun'}\n"
     ]
    }
   ],
   "source": [
    "print(the_log)"
   ]
  },
  {
   "cell_type": "code",
   "execution_count": 3,
   "metadata": {},
   "outputs": [
    {
     "data": {
      "text/plain": [
       "'deepika'"
      ]
     },
     "execution_count": 3,
     "metadata": {},
     "output_type": "execute_result"
    }
   ],
   "source": [
    "A.getting_cared_by()"
   ]
  },
  {
   "cell_type": "code",
   "execution_count": 4,
   "metadata": {},
   "outputs": [
    {
     "data": {
      "text/plain": [
       "'deepika'"
      ]
     },
     "execution_count": 4,
     "metadata": {},
     "output_type": "execute_result"
    }
   ],
   "source": [
    "B.getting_cared_by()"
   ]
  },
  {
   "cell_type": "code",
   "execution_count": 5,
   "metadata": {},
   "outputs": [
    {
     "data": {
      "text/plain": [
       "'deepika'"
      ]
     },
     "execution_count": 5,
     "metadata": {},
     "output_type": "execute_result"
    }
   ],
   "source": [
    "C.getting_cared_by()"
   ]
  },
  {
   "cell_type": "code",
   "execution_count": 6,
   "metadata": {},
   "outputs": [
    {
     "data": {
      "text/plain": [
       "'varun'"
      ]
     },
     "execution_count": 6,
     "metadata": {},
     "output_type": "execute_result"
    }
   ],
   "source": [
    "D.getting_cared_by()"
   ]
  },
  {
   "cell_type": "code",
   "execution_count": 7,
   "metadata": {
    "colab": {},
    "colab_type": "code",
    "id": "w7Q75MD2Fd2S"
   },
   "outputs": [],
   "source": [
    "A.set_rating('5star')\n",
    "B.set_rating('4star')\n",
    "C.set_rating('4star')\n",
    "D.set_rating('6star')"
   ]
  },
  {
   "cell_type": "code",
   "execution_count": 8,
   "metadata": {
    "colab": {},
    "colab_type": "code",
    "id": "EXVkz6lxFd2Z"
   },
   "outputs": [
    {
     "name": "stdout",
     "output_type": "stream",
     "text": [
      "5star\n",
      "4star\n",
      "4star\n",
      "6star\n"
     ]
    }
   ],
   "source": [
    "print(A.get_rating())\n",
    "print(B.get_rating())\n",
    "print(C.get_rating())\n",
    "print(D.get_rating())"
   ]
  },
  {
   "cell_type": "code",
   "execution_count": 9,
   "metadata": {},
   "outputs": [
    {
     "name": "stdout",
     "output_type": "stream",
     "text": [
      "ramreddy\n",
      "rajaram\n",
      "RAMU\n"
     ]
    }
   ],
   "source": [
    "Y.get_care_list()"
   ]
  },
  {
   "cell_type": "code",
   "execution_count": 10,
   "metadata": {},
   "outputs": [
    {
     "name": "stdout",
     "output_type": "stream",
     "text": [
      "ramreddy\n",
      "rajaram\n",
      "RAMU\n",
      "sujatha\n"
     ]
    }
   ],
   "source": [
    "Z.get_care_list()"
   ]
  },
  {
   "cell_type": "code",
   "execution_count": 11,
   "metadata": {},
   "outputs": [
    {
     "data": {
      "text/plain": [
       "3"
      ]
     },
     "execution_count": 11,
     "metadata": {},
     "output_type": "execute_result"
    }
   ],
   "source": [
    "Y.number()"
   ]
  },
  {
   "cell_type": "code",
   "execution_count": 12,
   "metadata": {},
   "outputs": [],
   "source": [
    "A.set_funds(50000)\n",
    "B.set_funds(20000)\n",
    "C.set_funds(10000)\n",
    "D.set_funds(70000)"
   ]
  },
  {
   "cell_type": "code",
   "execution_count": 13,
   "metadata": {},
   "outputs": [
    {
     "name": "stdout",
     "output_type": "stream",
     "text": [
      "50000\n",
      "20000\n",
      "10000\n",
      "70000\n"
     ]
    }
   ],
   "source": [
    "print(A.get_funds())\n",
    "print(B.get_funds())\n",
    "print(C.get_funds())\n",
    "print(D.get_funds())"
   ]
  },
  {
   "cell_type": "code",
   "execution_count": 14,
   "metadata": {},
   "outputs": [
    {
     "name": "stdout",
     "output_type": "stream",
     "text": [
      "50000\n"
     ]
    }
   ],
   "source": [
    "print(Y.income())"
   ]
  },
  {
   "cell_type": "code",
   "execution_count": 15,
   "metadata": {},
   "outputs": [
    {
     "name": "stdout",
     "output_type": "stream",
     "text": [
      "50000\n"
     ]
    }
   ],
   "source": [
    "print(Z.income())"
   ]
  },
  {
   "cell_type": "code",
   "execution_count": 17,
   "metadata": {},
   "outputs": [],
   "source": [
    "Y.set_review('NICE TO BE HERE')"
   ]
  },
  {
   "cell_type": "code",
   "execution_count": 18,
   "metadata": {},
   "outputs": [
    {
     "data": {
      "text/plain": [
       "'NICE TO BE HERE'"
      ]
     },
     "execution_count": 18,
     "metadata": {},
     "output_type": "execute_result"
    }
   ],
   "source": [
    "Y.get_review()"
   ]
  },
  {
   "cell_type": "code",
   "execution_count": null,
   "metadata": {},
   "outputs": [],
   "source": []
  },
  {
   "cell_type": "code",
   "execution_count": null,
   "metadata": {},
   "outputs": [],
   "source": []
  },
  {
   "cell_type": "code",
   "execution_count": null,
   "metadata": {},
   "outputs": [],
   "source": []
  },
  {
   "cell_type": "code",
   "execution_count": null,
   "metadata": {},
   "outputs": [],
   "source": []
  }
 ],
 "metadata": {
  "colab": {
   "collapsed_sections": [],
   "name": "careall.ipynb",
   "provenance": []
  },
  "kernelspec": {
   "display_name": "Python 3",
   "language": "python",
   "name": "python3"
  },
  "language_info": {
   "codemirror_mode": {
    "name": "ipython",
    "version": 3
   },
   "file_extension": ".py",
   "mimetype": "text/x-python",
   "name": "python",
   "nbconvert_exporter": "python",
   "pygments_lexer": "ipython3",
   "version": "3.7.6"
  }
 },
 "nbformat": 4,
 "nbformat_minor": 1
}
